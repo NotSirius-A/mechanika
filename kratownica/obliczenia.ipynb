{
 "cells": [
  {
   "cell_type": "markdown",
   "metadata": {},
   "source": [
    "### cw 2 WYZNACZANIE SIŁ W PRĘTACH MODELU KRATOWNICY PŁASKIEJ"
   ]
  },
  {
   "cell_type": "code",
   "execution_count": 6,
   "metadata": {},
   "outputs": [],
   "source": [
    "import pandas\n",
    "import math"
   ]
  },
  {
   "cell_type": "markdown",
   "metadata": {},
   "source": [
    "$\\sum \\limits _{i=1} ^{n} P_{ix} : -R_bcos(45^\\circ) + R_ax  = 0 $\n",
    "\n",
    "$\\sum \\limits _{i=1} ^{n} P_{iy} : R_bcos(45^\\circ) + R_ay - P_1 - P_2 = 0 $\n",
    "\n",
    "$\\sum \\limits _{i=1} ^{n} M_A : R_bcos(45^\\circ)3a - P_13a - P_22a = 0 $\n",
    "\n",
    "$ R_b = \\frac{P_13a + P_22a} {cos(45^\\circ)3a} $\n",
    "\n",
    "$ R_{ax} = R_bcos(45^\\circ) $\n",
    "\n",
    "$ R_{ay} = -R_bcos(45^\\circ) + P_1 + P_2 $"
   ]
  },
  {
   "cell_type": "code",
   "execution_count": 10,
   "metadata": {},
   "outputs": [],
   "source": [
    "#df = pandas.read_csv(\"pomiary.csv\")"
   ]
  },
  {
   "cell_type": "markdown",
   "metadata": {},
   "source": [
    "nie mam pojecia ile wynosi a, bo nie ma tego na zdjeciach ????!!, ale 0.4m wydaje sie produkowac te same wartosci teoretyczne co na zdjeciach, zatem pewnie a = 0.4m"
   ]
  },
  {
   "cell_type": "code",
   "execution_count": 16,
   "metadata": {},
   "outputs": [
    {
     "name": "stdout",
     "output_type": "stream",
     "text": [
      "Rb = 739.9165358336035\n",
      "Rax = 523.2000000000002\n",
      "Ray = 114.44999999999987\n"
     ]
    }
   ],
   "source": [
    "P1 = 294.3 # [N]\n",
    "P2 = 343.35 # [N]\n",
    "a = 0.4 # [m]\n",
    "get_Rb = lambda p1, p2, l: (p1*3*l+p2*2*l)/(math.cos(math.radians(45))*3*l)\n",
    "Rb = get_Rb(P1, P2, a)\n",
    "\n",
    "get_Rax = lambda rb: Rb*math.cos(math.radians(45))\n",
    "Rax = get_Rax(Rb)\n",
    "\n",
    "get_Ray = lambda rb, p1, p2: -rb*math.cos(math.radians(45)) + p1 + p2\n",
    "Ray = get_Ray(Rb, P1, P2)\n",
    "\n",
    "print(f\"Rb = {Rb}\\nRax = {Rax}\\nRay = {Ray}\")\n"
   ]
  },
  {
   "cell_type": "code",
   "execution_count": null,
   "metadata": {},
   "outputs": [],
   "source": []
  }
 ],
 "metadata": {
  "interpreter": {
   "hash": "916dbcbb3f70747c44a77c7bcd40155683ae19c65e1c03b4aa3499c5328201f1"
  },
  "kernelspec": {
   "display_name": "Python 3.8.10 64-bit",
   "language": "python",
   "name": "python3"
  },
  "language_info": {
   "codemirror_mode": {
    "name": "ipython",
    "version": 3
   },
   "file_extension": ".py",
   "mimetype": "text/x-python",
   "name": "python",
   "nbconvert_exporter": "python",
   "pygments_lexer": "ipython3",
   "version": "3.8.10"
  },
  "orig_nbformat": 4
 },
 "nbformat": 4,
 "nbformat_minor": 2
}
