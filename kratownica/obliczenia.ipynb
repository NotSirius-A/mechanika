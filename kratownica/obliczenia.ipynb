{
 "cells": [
  {
   "cell_type": "markdown",
   "metadata": {},
   "source": [
    "### cw 2 WYZNACZANIE SIŁ W PRĘTACH MODELU KRATOWNICY PŁASKIEJ"
   ]
  },
  {
   "cell_type": "code",
   "execution_count": 33,
   "metadata": {},
   "outputs": [],
   "source": [
    "import pandas\n",
    "import math"
   ]
  },
  {
   "cell_type": "markdown",
   "metadata": {},
   "source": [
    "$\\sum \\limits _{i=1} ^{n} P_{ix} : -R_bcos(45^\\circ) + R_ax  = 0 $\n",
    "\n",
    "$\\sum \\limits _{i=1} ^{n} P_{iy} : R_bcos(45^\\circ) + R_ay - P_1 - P_2 = 0 $\n",
    "\n",
    "$\\sum \\limits _{i=1} ^{n} M_A : R_bcos(45^\\circ)3a - P_13a - P_22a = 0 $\n",
    "\n",
    "$ R_b = \\frac{P_13a + P_22a} {cos(45^\\circ)3a} $\n",
    "\n",
    "$ R_{ax} = R_bcos(45^\\circ) $\n",
    "\n",
    "$ R_{ay} = -R_bcos(45^\\circ) + P_1 + P_2 $\n",
    "\n",
    "$ Err = \\frac {|x_{pomiar} - x_{real}|} {x_{real}} $"
   ]
  },
  {
   "cell_type": "code",
   "execution_count": 34,
   "metadata": {},
   "outputs": [
    {
     "data": {
      "text/html": [
       "<div>\n",
       "<style scoped>\n",
       "    .dataframe tbody tr th:only-of-type {\n",
       "        vertical-align: middle;\n",
       "    }\n",
       "\n",
       "    .dataframe tbody tr th {\n",
       "        vertical-align: top;\n",
       "    }\n",
       "\n",
       "    .dataframe thead th {\n",
       "        text-align: right;\n",
       "    }\n",
       "</style>\n",
       "<table border=\"1\" class=\"dataframe\">\n",
       "  <thead>\n",
       "    <tr style=\"text-align: right;\">\n",
       "      <th></th>\n",
       "      <th>M</th>\n",
       "      <th>P1</th>\n",
       "      <th>P2</th>\n",
       "      <th>Rb</th>\n",
       "      <th>Rax</th>\n",
       "      <th>Ray</th>\n",
       "    </tr>\n",
       "  </thead>\n",
       "  <tbody>\n",
       "    <tr>\n",
       "      <th>0</th>\n",
       "      <td>5</td>\n",
       "      <td>280.0</td>\n",
       "      <td>376.0</td>\n",
       "      <td>NaN</td>\n",
       "      <td>746.0</td>\n",
       "      <td>108.0</td>\n",
       "    </tr>\n",
       "    <tr>\n",
       "      <th>1</th>\n",
       "      <td>15</td>\n",
       "      <td>778.0</td>\n",
       "      <td>1019.0</td>\n",
       "      <td>NaN</td>\n",
       "      <td>2050.0</td>\n",
       "      <td>348.0</td>\n",
       "    </tr>\n",
       "  </tbody>\n",
       "</table>\n",
       "</div>"
      ],
      "text/plain": [
       "    M     P1      P2  Rb     Rax    Ray\n",
       "0   5  280.0   376.0 NaN   746.0  108.0\n",
       "1  15  778.0  1019.0 NaN  2050.0  348.0"
      ]
     },
     "execution_count": 34,
     "metadata": {},
     "output_type": "execute_result"
    }
   ],
   "source": [
    "df = pandas.read_csv(\"pomiary.csv\")\n",
    "df.head(10)"
   ]
  },
  {
   "cell_type": "markdown",
   "metadata": {},
   "source": [
    "nie mam pojecia ile wynosi a, bo nie ma tego na zdjeciach ????!!, ale 0.4m wydaje sie produkowac te same wartosci teoretyczne co na zdjeciach, zatem pewnie a = 0.4m"
   ]
  },
  {
   "cell_type": "code",
   "execution_count": 35,
   "metadata": {},
   "outputs": [],
   "source": [
    "get_Rb = lambda p1, p2, l: (p1*3*l+p2*2*l)/(math.cos(math.radians(45))*3*l)\n",
    "get_Rax = lambda rb: rb*math.cos(math.radians(45))\n",
    "get_Ray = lambda rb, p1, p2: -rb*math.cos(math.radians(45)) + p1 + p2\n",
    "get_relative_error = lambda x, y: (abs(x-y)/y)*100"
   ]
  },
  {
   "cell_type": "code",
   "execution_count": 36,
   "metadata": {},
   "outputs": [],
   "source": [
    "a = 0.4 # [m]\n",
    "g = 9.81 # [m/s^2]"
   ]
  },
  {
   "cell_type": "markdown",
   "metadata": {},
   "source": [
    "### test"
   ]
  },
  {
   "cell_type": "code",
   "execution_count": 37,
   "metadata": {},
   "outputs": [
    {
     "name": "stdout",
     "output_type": "stream",
     "text": [
      "Rb = 739.9165358336035\n",
      "Rax = 523.2000000000002\n",
      "Ray = 114.44999999999987\n"
     ]
    }
   ],
   "source": [
    "P1 = 294.3 # [N]\n",
    "P2 = 343.35 # [N]\n",
    "\n",
    "Rb = get_Rb(P1, P2, a)\n",
    "\n",
    "Rax = get_Rax(Rb)\n",
    "\n",
    "Ray = get_Ray(Rb, P1, P2)\n",
    "\n",
    "print(f\"Rb = {Rb}\\nRax = {Rax}\\nRay = {Ray}\")"
   ]
  },
  {
   "cell_type": "code",
   "execution_count": 38,
   "metadata": {},
   "outputs": [
    {
     "data": {
      "text/html": [
       "<div>\n",
       "<style scoped>\n",
       "    .dataframe tbody tr th:only-of-type {\n",
       "        vertical-align: middle;\n",
       "    }\n",
       "\n",
       "    .dataframe tbody tr th {\n",
       "        vertical-align: top;\n",
       "    }\n",
       "\n",
       "    .dataframe thead th {\n",
       "        text-align: right;\n",
       "    }\n",
       "</style>\n",
       "<table border=\"1\" class=\"dataframe\">\n",
       "  <thead>\n",
       "    <tr style=\"text-align: right;\">\n",
       "      <th></th>\n",
       "      <th>M</th>\n",
       "      <th>P1</th>\n",
       "      <th>P2</th>\n",
       "      <th>Rb</th>\n",
       "      <th>Rax</th>\n",
       "      <th>Ray</th>\n",
       "      <th>TP1</th>\n",
       "      <th>TP2</th>\n",
       "      <th>TRb</th>\n",
       "      <th>TRax</th>\n",
       "      <th>TRay</th>\n",
       "    </tr>\n",
       "  </thead>\n",
       "  <tbody>\n",
       "    <tr>\n",
       "      <th>0</th>\n",
       "      <td>5</td>\n",
       "      <td>280.0</td>\n",
       "      <td>376.0</td>\n",
       "      <td>NaN</td>\n",
       "      <td>746.0</td>\n",
       "      <td>108.0</td>\n",
       "      <td>294.3</td>\n",
       "      <td>343.35</td>\n",
       "      <td>739.916536</td>\n",
       "      <td>523.2</td>\n",
       "      <td>114.45</td>\n",
       "    </tr>\n",
       "    <tr>\n",
       "      <th>1</th>\n",
       "      <td>15</td>\n",
       "      <td>778.0</td>\n",
       "      <td>1019.0</td>\n",
       "      <td>NaN</td>\n",
       "      <td>2050.0</td>\n",
       "      <td>348.0</td>\n",
       "      <td>882.9</td>\n",
       "      <td>1030.05</td>\n",
       "      <td>2219.749608</td>\n",
       "      <td>1569.6</td>\n",
       "      <td>343.35</td>\n",
       "    </tr>\n",
       "  </tbody>\n",
       "</table>\n",
       "</div>"
      ],
      "text/plain": [
       "    M     P1      P2  Rb     Rax    Ray    TP1      TP2          TRb    TRax  \\\n",
       "0   5  280.0   376.0 NaN   746.0  108.0  294.3   343.35   739.916536   523.2   \n",
       "1  15  778.0  1019.0 NaN  2050.0  348.0  882.9  1030.05  2219.749608  1569.6   \n",
       "\n",
       "     TRay  \n",
       "0  114.45  \n",
       "1  343.35  "
      ]
     },
     "execution_count": 38,
     "metadata": {},
     "output_type": "execute_result"
    }
   ],
   "source": [
    "df[\"TP1\"] = [6*M*g for M in df[\"M\"]]\n",
    "df[\"TP2\"] = [7*M*g for M in df[\"M\"]]\n",
    "df[\"TRb\"] = [get_Rb(P1, P2, a) for P1, P2 in zip(df[\"TP1\"], df[\"TP2\"])]\n",
    "df[\"TRax\"] = [get_Rax(Rb) for Rb in df[\"TRb\"]]\n",
    "df[\"TRay\"] = [get_Ray(Rb, P1, P2) for Rb, P1, P2 in zip(df[\"TRb\"], df[\"TP1\"], df[\"TP2\"])]\n",
    "df.head(10)"
   ]
  },
  {
   "cell_type": "code",
   "execution_count": 39,
   "metadata": {},
   "outputs": [
    {
     "data": {
      "text/html": [
       "<div>\n",
       "<style scoped>\n",
       "    .dataframe tbody tr th:only-of-type {\n",
       "        vertical-align: middle;\n",
       "    }\n",
       "\n",
       "    .dataframe tbody tr th {\n",
       "        vertical-align: top;\n",
       "    }\n",
       "\n",
       "    .dataframe thead th {\n",
       "        text-align: right;\n",
       "    }\n",
       "</style>\n",
       "<table border=\"1\" class=\"dataframe\">\n",
       "  <thead>\n",
       "    <tr style=\"text-align: right;\">\n",
       "      <th></th>\n",
       "      <th>M</th>\n",
       "      <th>P1</th>\n",
       "      <th>P2</th>\n",
       "      <th>Rb</th>\n",
       "      <th>Rax</th>\n",
       "      <th>Ray</th>\n",
       "      <th>TP1</th>\n",
       "      <th>TP2</th>\n",
       "      <th>TRb</th>\n",
       "      <th>TRax</th>\n",
       "      <th>TRay</th>\n",
       "      <th>rel_error_P1</th>\n",
       "      <th>rel_error_P2</th>\n",
       "      <th>rel_error_Rb</th>\n",
       "      <th>rel_error_Rax</th>\n",
       "      <th>rel_error_Ray</th>\n",
       "    </tr>\n",
       "  </thead>\n",
       "  <tbody>\n",
       "    <tr>\n",
       "      <th>0</th>\n",
       "      <td>5</td>\n",
       "      <td>280.0</td>\n",
       "      <td>376.0</td>\n",
       "      <td>NaN</td>\n",
       "      <td>746.0</td>\n",
       "      <td>108.0</td>\n",
       "      <td>294.3</td>\n",
       "      <td>343.35</td>\n",
       "      <td>739.916536</td>\n",
       "      <td>523.2</td>\n",
       "      <td>114.45</td>\n",
       "      <td>4.858987</td>\n",
       "      <td>9.509247</td>\n",
       "      <td>NaN</td>\n",
       "      <td>42.584098</td>\n",
       "      <td>5.635649</td>\n",
       "    </tr>\n",
       "    <tr>\n",
       "      <th>1</th>\n",
       "      <td>15</td>\n",
       "      <td>778.0</td>\n",
       "      <td>1019.0</td>\n",
       "      <td>NaN</td>\n",
       "      <td>2050.0</td>\n",
       "      <td>348.0</td>\n",
       "      <td>882.9</td>\n",
       "      <td>1030.05</td>\n",
       "      <td>2219.749608</td>\n",
       "      <td>1569.6</td>\n",
       "      <td>343.35</td>\n",
       "      <td>11.881300</td>\n",
       "      <td>1.072763</td>\n",
       "      <td>NaN</td>\n",
       "      <td>30.606524</td>\n",
       "      <td>1.354303</td>\n",
       "    </tr>\n",
       "  </tbody>\n",
       "</table>\n",
       "</div>"
      ],
      "text/plain": [
       "    M     P1      P2  Rb     Rax    Ray    TP1      TP2          TRb    TRax  \\\n",
       "0   5  280.0   376.0 NaN   746.0  108.0  294.3   343.35   739.916536   523.2   \n",
       "1  15  778.0  1019.0 NaN  2050.0  348.0  882.9  1030.05  2219.749608  1569.6   \n",
       "\n",
       "     TRay  rel_error_P1  rel_error_P2  rel_error_Rb  rel_error_Rax  \\\n",
       "0  114.45      4.858987      9.509247           NaN      42.584098   \n",
       "1  343.35     11.881300      1.072763           NaN      30.606524   \n",
       "\n",
       "   rel_error_Ray  \n",
       "0       5.635649  \n",
       "1       1.354303  "
      ]
     },
     "execution_count": 39,
     "metadata": {},
     "output_type": "execute_result"
    }
   ],
   "source": [
    "df[\"rel_error_P1\"] = [get_relative_error(P1, TP1) for P1, TP1 in zip(df[\"P1\"], df[\"TP1\"])]\n",
    "df[\"rel_error_P2\"] = [get_relative_error(P2, TP2) for P2, TP2 in zip(df[\"P2\"], df[\"TP2\"])]\n",
    "df[\"rel_error_Rb\"] = [get_relative_error(Rb, TRb) for Rb, TRb in zip(df[\"Rb\"], df[\"TRb\"])]\n",
    "df[\"rel_error_Rax\"] = [get_relative_error(Rax, TRax) for Rax, TRax in zip(df[\"Rax\"], df[\"TRax\"])]\n",
    "df[\"rel_error_Ray\"] = [get_relative_error(Ray, TRay) for Ray, TRay in zip(df[\"Ray\"], df[\"TRay\"])]\n",
    "\n",
    "df.head()"
   ]
  },
  {
   "cell_type": "code",
   "execution_count": null,
   "metadata": {},
   "outputs": [],
   "source": []
  }
 ],
 "metadata": {
  "interpreter": {
   "hash": "916dbcbb3f70747c44a77c7bcd40155683ae19c65e1c03b4aa3499c5328201f1"
  },
  "kernelspec": {
   "display_name": "Python 3.8.10 64-bit",
   "language": "python",
   "name": "python3"
  },
  "language_info": {
   "codemirror_mode": {
    "name": "ipython",
    "version": 3
   },
   "file_extension": ".py",
   "mimetype": "text/x-python",
   "name": "python",
   "nbconvert_exporter": "python",
   "pygments_lexer": "ipython3",
   "version": "3.8.10"
  },
  "orig_nbformat": 4
 },
 "nbformat": 4,
 "nbformat_minor": 2
}
