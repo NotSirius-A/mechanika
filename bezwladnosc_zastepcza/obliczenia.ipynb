{
 "cells": [
  {
   "cell_type": "code",
   "execution_count": 40,
   "metadata": {},
   "outputs": [],
   "source": [
    "import pandas\n",
    "import numpy"
   ]
  },
  {
   "cell_type": "markdown",
   "metadata": {},
   "source": [
    "### Okazalo sie z *chyba* pomiary mas byly zle - tzn w tych wzorach potrzebna jest masa samych odwaznikow a nie calego ciala, masa bazowego talerzyka jest juz uwzgledniona we wzorze"
   ]
  },
  {
   "cell_type": "markdown",
   "metadata": {},
   "source": [
    "### Tarcie"
   ]
  },
  {
   "cell_type": "code",
   "execution_count": 41,
   "metadata": {},
   "outputs": [
    {
     "name": "stdout",
     "output_type": "stream",
     "text": [
      "Mt = 0.022074 Nm\n"
     ]
    }
   ],
   "source": [
    "Mmax = 0.89 #[kg]\n",
    "Mmin = 0.59 #[kg]\n",
    "Mt = 0.07358*(Mmax-Mmin)\n",
    "print(f\"Mt = {round(Mt, 6)} Nm\")"
   ]
  },
  {
   "cell_type": "markdown",
   "metadata": {},
   "source": [
    "### Import pomariow"
   ]
  },
  {
   "cell_type": "code",
   "execution_count": 42,
   "metadata": {},
   "outputs": [
    {
     "data": {
      "text/html": [
       "<div>\n",
       "<style scoped>\n",
       "    .dataframe tbody tr th:only-of-type {\n",
       "        vertical-align: middle;\n",
       "    }\n",
       "\n",
       "    .dataframe tbody tr th {\n",
       "        vertical-align: top;\n",
       "    }\n",
       "\n",
       "    .dataframe thead th {\n",
       "        text-align: right;\n",
       "    }\n",
       "</style>\n",
       "<table border=\"1\" class=\"dataframe\">\n",
       "  <thead>\n",
       "    <tr style=\"text-align: right;\">\n",
       "      <th></th>\n",
       "      <th>Eksperyment</th>\n",
       "      <th>t1</th>\n",
       "      <th>t2</th>\n",
       "      <th>M</th>\n",
       "      <th>Tsr</th>\n",
       "    </tr>\n",
       "  </thead>\n",
       "  <tbody>\n",
       "    <tr>\n",
       "      <th>0</th>\n",
       "      <td>Bez Tarczy m1 1</td>\n",
       "      <td>3.12</td>\n",
       "      <td>3.09</td>\n",
       "      <td>1.11</td>\n",
       "      <td>3.105</td>\n",
       "    </tr>\n",
       "    <tr>\n",
       "      <th>1</th>\n",
       "      <td>Bez Tarczy m1 2</td>\n",
       "      <td>1.55</td>\n",
       "      <td>1.55</td>\n",
       "      <td>1.84</td>\n",
       "      <td>1.550</td>\n",
       "    </tr>\n",
       "    <tr>\n",
       "      <th>2</th>\n",
       "      <td>Tarcza A m1 1</td>\n",
       "      <td>4.31</td>\n",
       "      <td>4.35</td>\n",
       "      <td>1.11</td>\n",
       "      <td>4.330</td>\n",
       "    </tr>\n",
       "    <tr>\n",
       "      <th>3</th>\n",
       "      <td>Tarcza A m1 2</td>\n",
       "      <td>2.05</td>\n",
       "      <td>2.03</td>\n",
       "      <td>1.84</td>\n",
       "      <td>2.040</td>\n",
       "    </tr>\n",
       "  </tbody>\n",
       "</table>\n",
       "</div>"
      ],
      "text/plain": [
       "       Eksperyment    t1    t2     M    Tsr\n",
       "0  Bez Tarczy m1 1  3.12  3.09  1.11  3.105\n",
       "1  Bez Tarczy m1 2  1.55  1.55  1.84  1.550\n",
       "2    Tarcza A m1 1  4.31  4.35  1.11  4.330\n",
       "3    Tarcza A m1 2  2.05  2.03  1.84  2.040"
      ]
     },
     "execution_count": 42,
     "metadata": {},
     "output_type": "execute_result"
    }
   ],
   "source": [
    "df = pandas.read_csv(\"red_pomiary.csv\")\n",
    "df[\"Tsr\"] = [(t1+t2)/2 for t1, t2 in zip(df[\"t1\"], df[\"t2\"])]\n",
    "df[\"M\"] = [M-0.34 for M in df[\"M\"]]\n",
    "df.head(10)"
   ]
  },
  {
   "cell_type": "markdown",
   "metadata": {},
   "source": [
    "### Moment zredukowany"
   ]
  },
  {
   "cell_type": "markdown",
   "metadata": {},
   "source": [
    "##### Dowolny moment bezwladnosci (do testu)"
   ]
  },
  {
   "cell_type": "code",
   "execution_count": 43,
   "metadata": {},
   "outputs": [
    {
     "name": "stdout",
     "output_type": "stream",
     "text": [
      "I = 0.0093 kg*m^2\n"
     ]
    }
   ],
   "source": [
    "t = 3.105 #[s]\n",
    "Mt = Mt #[Nm]\n",
    "m1 = 1.45 #[kg]\n",
    "\n",
    "I = (0.002053*m1-0.0017042-0.013954*Mt)*t**2\n",
    "print(f\"I = {round(I, 6)} kg*m^2\")"
   ]
  },
  {
   "cell_type": "markdown",
   "metadata": {},
   "source": [
    "##### Obliczenia wszystkich momentow bezwladnosci"
   ]
  },
  {
   "cell_type": "code",
   "execution_count": 44,
   "metadata": {},
   "outputs": [
    {
     "data": {
      "text/html": [
       "<div>\n",
       "<style scoped>\n",
       "    .dataframe tbody tr th:only-of-type {\n",
       "        vertical-align: middle;\n",
       "    }\n",
       "\n",
       "    .dataframe tbody tr th {\n",
       "        vertical-align: top;\n",
       "    }\n",
       "\n",
       "    .dataframe thead th {\n",
       "        text-align: right;\n",
       "    }\n",
       "</style>\n",
       "<table border=\"1\" class=\"dataframe\">\n",
       "  <thead>\n",
       "    <tr style=\"text-align: right;\">\n",
       "      <th></th>\n",
       "      <th>Eksperyment</th>\n",
       "      <th>t1</th>\n",
       "      <th>t2</th>\n",
       "      <th>M</th>\n",
       "      <th>Tsr</th>\n",
       "      <th>Ired</th>\n",
       "    </tr>\n",
       "  </thead>\n",
       "  <tbody>\n",
       "    <tr>\n",
       "      <th>0</th>\n",
       "      <td>Bez Tarczy m1 1</td>\n",
       "      <td>3.12</td>\n",
       "      <td>3.09</td>\n",
       "      <td>1.11</td>\n",
       "      <td>3.105</td>\n",
       "      <td>0.002570</td>\n",
       "    </tr>\n",
       "    <tr>\n",
       "      <th>1</th>\n",
       "      <td>Bez Tarczy m1 2</td>\n",
       "      <td>1.55</td>\n",
       "      <td>1.55</td>\n",
       "      <td>1.84</td>\n",
       "      <td>1.550</td>\n",
       "      <td>0.004241</td>\n",
       "    </tr>\n",
       "    <tr>\n",
       "      <th>2</th>\n",
       "      <td>Tarcza A m1 1</td>\n",
       "      <td>4.31</td>\n",
       "      <td>4.35</td>\n",
       "      <td>1.11</td>\n",
       "      <td>4.330</td>\n",
       "      <td>0.004999</td>\n",
       "    </tr>\n",
       "    <tr>\n",
       "      <th>3</th>\n",
       "      <td>Tarcza A m1 2</td>\n",
       "      <td>2.05</td>\n",
       "      <td>2.03</td>\n",
       "      <td>1.84</td>\n",
       "      <td>2.040</td>\n",
       "      <td>0.007346</td>\n",
       "    </tr>\n",
       "  </tbody>\n",
       "</table>\n",
       "</div>"
      ],
      "text/plain": [
       "       Eksperyment    t1    t2     M    Tsr      Ired\n",
       "0  Bez Tarczy m1 1  3.12  3.09  1.11  3.105  0.002570\n",
       "1  Bez Tarczy m1 2  1.55  1.55  1.84  1.550  0.004241\n",
       "2    Tarcza A m1 1  4.31  4.35  1.11  4.330  0.004999\n",
       "3    Tarcza A m1 2  2.05  2.03  1.84  2.040  0.007346"
      ]
     },
     "execution_count": 44,
     "metadata": {},
     "output_type": "execute_result"
    }
   ],
   "source": [
    "df[\"Ired\"] = [round(((0.002053*M)-0.0017042-(0.013954*Mt))*(t**2),6) for t,M in zip(df[\"Tsr\"], df[\"M\"])]\n",
    "df.head(10)"
   ]
  },
  {
   "cell_type": "markdown",
   "metadata": {},
   "source": [
    "#### Moment Bezwladnosci tarczy A"
   ]
  },
  {
   "cell_type": "code",
   "execution_count": 45,
   "metadata": {},
   "outputs": [
    {
     "name": "stdout",
     "output_type": "stream",
     "text": [
      "Ia1 = 0.002429 kg*m^2\n",
      "Ia2 = 0.003105 kg*m^2\n"
     ]
    }
   ],
   "source": [
    "Ia1 = float(df.query(\"Eksperyment == 'Tarcza A m1 1'\")[\"Ired\"]) - float(df.query(\"Eksperyment == 'Bez Tarczy m1 1'\")[\"Ired\"])\n",
    "Ia2 = float(df.query(\"Eksperyment == 'Tarcza A m1 2'\")[\"Ired\"]) - float(df.query(\"Eksperyment == 'Bez Tarczy m1 2'\")[\"Ired\"])\n",
    "\n",
    "print(f\"Ia1 = {round(Ia1, 6)} kg*m^2\")\n",
    "print(f\"Ia2 = {round(Ia2, 6)} kg*m^2\")"
   ]
  },
  {
   "cell_type": "markdown",
   "metadata": {},
   "source": [
    "#### Teoretyczny moment bezwladosci tarczy A"
   ]
  },
  {
   "cell_type": "code",
   "execution_count": 46,
   "metadata": {},
   "outputs": [
    {
     "name": "stdout",
     "output_type": "stream",
     "text": [
      "Teoretyczne I = 0.003455 kg*m^2\n"
     ]
    }
   ],
   "source": [
    "from math import pi\n",
    "P = pi*(0.0045**2)\n",
    "V = P*0.0095\n",
    "M = 7028*V\n",
    "I = 0.5*1.175*((0.075**2)+(0.016**2))#-2*((0.5*M*0.0045**2)+(P*(0.071**2)))\n",
    "# Moment bezwladnosci wydrazonego walca = 0.5*m*(r1^2+r2^2), gdzie r1>r2\n",
    "# Twierdzenie Steinera - I + Pd^2 - ale chyba nie ma co tego uwzgledniac bo to jest prawie 0\n",
    "print(f\"Teoretyczne I = {round(I, 6)} kg*m^2\")"
   ]
  },
  {
   "cell_type": "markdown",
   "metadata": {},
   "source": [
    "##### Export"
   ]
  },
  {
   "cell_type": "code",
   "execution_count": 47,
   "metadata": {},
   "outputs": [],
   "source": [
    "df.to_csv(\"wyniki.csv\", index=False)"
   ]
  }
 ],
 "metadata": {
  "interpreter": {
   "hash": "36cf16204b8548560b1c020c4e8fb5b57f0e4c58016f52f2d4be01e192833930"
  },
  "kernelspec": {
   "display_name": "Python 3.9.5 64-bit",
   "language": "python",
   "name": "python3"
  },
  "language_info": {
   "codemirror_mode": {
    "name": "ipython",
    "version": 3
   },
   "file_extension": ".py",
   "mimetype": "text/x-python",
   "name": "python",
   "nbconvert_exporter": "python",
   "pygments_lexer": "ipython3",
   "version": "3.8.10"
  },
  "orig_nbformat": 4
 },
 "nbformat": 4,
 "nbformat_minor": 2
}
