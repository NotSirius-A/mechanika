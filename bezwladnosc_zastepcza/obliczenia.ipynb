{
 "cells": [
  {
   "cell_type": "code",
   "execution_count": 10,
   "metadata": {},
   "outputs": [],
   "source": [
    "import pandas\n",
    "import numpy"
   ]
  },
  {
   "cell_type": "markdown",
   "metadata": {},
   "source": [
    "### Tarcie"
   ]
  },
  {
   "cell_type": "code",
   "execution_count": 11,
   "metadata": {},
   "outputs": [
    {
     "name": "stdout",
     "output_type": "stream",
     "text": [
      "Mt = 0.02281 Nm\n"
     ]
    }
   ],
   "source": [
    "Mmax = 1.24 #[kg]\n",
    "Mmin = 0.93 #[kg]\n",
    "Mt = 0.07358*(Mmax-Mmin)\n",
    "print(f\"Mt = {round(Mt, 6)} Nm\")"
   ]
  },
  {
   "cell_type": "markdown",
   "metadata": {},
   "source": [
    "### Import pomariow"
   ]
  },
  {
   "cell_type": "code",
   "execution_count": 12,
   "metadata": {},
   "outputs": [
    {
     "data": {
      "text/html": [
       "<div>\n",
       "<style scoped>\n",
       "    .dataframe tbody tr th:only-of-type {\n",
       "        vertical-align: middle;\n",
       "    }\n",
       "\n",
       "    .dataframe tbody tr th {\n",
       "        vertical-align: top;\n",
       "    }\n",
       "\n",
       "    .dataframe thead th {\n",
       "        text-align: right;\n",
       "    }\n",
       "</style>\n",
       "<table border=\"1\" class=\"dataframe\">\n",
       "  <thead>\n",
       "    <tr style=\"text-align: right;\">\n",
       "      <th></th>\n",
       "      <th>Eksperyment</th>\n",
       "      <th>t1</th>\n",
       "      <th>t2</th>\n",
       "      <th>M</th>\n",
       "      <th>Tsr</th>\n",
       "    </tr>\n",
       "  </thead>\n",
       "  <tbody>\n",
       "    <tr>\n",
       "      <th>0</th>\n",
       "      <td>Bez Tarczy m1</td>\n",
       "      <td>3.12</td>\n",
       "      <td>3.09</td>\n",
       "      <td>1.45</td>\n",
       "      <td>3.105</td>\n",
       "    </tr>\n",
       "    <tr>\n",
       "      <th>1</th>\n",
       "      <td>Bez Tarczy m2</td>\n",
       "      <td>1.55</td>\n",
       "      <td>1.55</td>\n",
       "      <td>2.18</td>\n",
       "      <td>1.550</td>\n",
       "    </tr>\n",
       "    <tr>\n",
       "      <th>2</th>\n",
       "      <td>Tarcza A m1</td>\n",
       "      <td>4.31</td>\n",
       "      <td>4.35</td>\n",
       "      <td>1.45</td>\n",
       "      <td>4.330</td>\n",
       "    </tr>\n",
       "    <tr>\n",
       "      <th>3</th>\n",
       "      <td>Tarcza A m2</td>\n",
       "      <td>2.05</td>\n",
       "      <td>2.03</td>\n",
       "      <td>2.18</td>\n",
       "      <td>2.040</td>\n",
       "    </tr>\n",
       "  </tbody>\n",
       "</table>\n",
       "</div>"
      ],
      "text/plain": [
       "     Eksperyment    t1    t2     M    Tsr\n",
       "0  Bez Tarczy m1  3.12  3.09  1.45  3.105\n",
       "1  Bez Tarczy m2  1.55  1.55  2.18  1.550\n",
       "2    Tarcza A m1  4.31  4.35  1.45  4.330\n",
       "3    Tarcza A m2  2.05  2.03  2.18  2.040"
      ]
     },
     "execution_count": 12,
     "metadata": {},
     "output_type": "execute_result"
    }
   ],
   "source": [
    "df = pandas.read_csv(\"red_pomiary.csv\")\n",
    "df[\"Tsr\"] = [(t1+t2)/2 for t1, t2 in zip(df[\"t1\"], df[\"t2\"])]\n",
    "df.head(10)"
   ]
  },
  {
   "cell_type": "markdown",
   "metadata": {},
   "source": [
    "### Moment zredukowany"
   ]
  },
  {
   "cell_type": "markdown",
   "metadata": {},
   "source": [
    "##### Dowolny moment bezwladnosci (do testu)"
   ]
  },
  {
   "cell_type": "code",
   "execution_count": 13,
   "metadata": {},
   "outputs": [
    {
     "name": "stdout",
     "output_type": "stream",
     "text": [
      "Mt = 0.009201 kg*m^2\n"
     ]
    }
   ],
   "source": [
    "t = 3.105 #[s]\n",
    "Mt = Mt #[Nm]\n",
    "m1 = 1.45 #[kg]\n",
    "\n",
    "I = (0.002053*m1-0.0017042-0.013954*Mt)*t**2\n",
    "print(f\"Mt = {round(I, 6)} kg*m^2\")"
   ]
  },
  {
   "cell_type": "markdown",
   "metadata": {},
   "source": [
    "##### Obliczenia wszystkich momentow bezwladnosci"
   ]
  },
  {
   "cell_type": "code",
   "execution_count": 14,
   "metadata": {},
   "outputs": [
    {
     "data": {
      "text/html": [
       "<div>\n",
       "<style scoped>\n",
       "    .dataframe tbody tr th:only-of-type {\n",
       "        vertical-align: middle;\n",
       "    }\n",
       "\n",
       "    .dataframe tbody tr th {\n",
       "        vertical-align: top;\n",
       "    }\n",
       "\n",
       "    .dataframe thead th {\n",
       "        text-align: right;\n",
       "    }\n",
       "</style>\n",
       "<table border=\"1\" class=\"dataframe\">\n",
       "  <thead>\n",
       "    <tr style=\"text-align: right;\">\n",
       "      <th></th>\n",
       "      <th>Eksperyment</th>\n",
       "      <th>t1</th>\n",
       "      <th>t2</th>\n",
       "      <th>M</th>\n",
       "      <th>Tsr</th>\n",
       "      <th>Ired</th>\n",
       "    </tr>\n",
       "  </thead>\n",
       "  <tbody>\n",
       "    <tr>\n",
       "      <th>0</th>\n",
       "      <td>Bez Tarczy m1</td>\n",
       "      <td>3.12</td>\n",
       "      <td>3.09</td>\n",
       "      <td>1.45</td>\n",
       "      <td>3.105</td>\n",
       "      <td>0.009201</td>\n",
       "    </tr>\n",
       "    <tr>\n",
       "      <th>1</th>\n",
       "      <td>Bez Tarczy m2</td>\n",
       "      <td>1.55</td>\n",
       "      <td>1.55</td>\n",
       "      <td>2.18</td>\n",
       "      <td>1.550</td>\n",
       "      <td>0.005893</td>\n",
       "    </tr>\n",
       "    <tr>\n",
       "      <th>2</th>\n",
       "      <td>Tarcza A m1</td>\n",
       "      <td>4.31</td>\n",
       "      <td>4.35</td>\n",
       "      <td>1.45</td>\n",
       "      <td>4.330</td>\n",
       "      <td>0.017893</td>\n",
       "    </tr>\n",
       "    <tr>\n",
       "      <th>3</th>\n",
       "      <td>Tarcza A m2</td>\n",
       "      <td>2.05</td>\n",
       "      <td>2.03</td>\n",
       "      <td>2.18</td>\n",
       "      <td>2.040</td>\n",
       "      <td>0.010209</td>\n",
       "    </tr>\n",
       "  </tbody>\n",
       "</table>\n",
       "</div>"
      ],
      "text/plain": [
       "     Eksperyment    t1    t2     M    Tsr      Ired\n",
       "0  Bez Tarczy m1  3.12  3.09  1.45  3.105  0.009201\n",
       "1  Bez Tarczy m2  1.55  1.55  2.18  1.550  0.005893\n",
       "2    Tarcza A m1  4.31  4.35  1.45  4.330  0.017893\n",
       "3    Tarcza A m2  2.05  2.03  2.18  2.040  0.010209"
      ]
     },
     "execution_count": 14,
     "metadata": {},
     "output_type": "execute_result"
    }
   ],
   "source": [
    "df[\"Ired\"] = [(0.002053*M-0.0017042-0.013954*Mt)*t**2 for t,M in zip(df[\"Tsr\"], df[\"M\"])]\n",
    "df.head(10)"
   ]
  },
  {
   "cell_type": "markdown",
   "metadata": {},
   "source": [
    "#### Moment Bezwladnosci tarczy A"
   ]
  },
  {
   "cell_type": "code",
   "execution_count": 15,
   "metadata": {},
   "outputs": [
    {
     "name": "stdout",
     "output_type": "stream",
     "text": [
      "Ia1 = 0.008692 kg*m^2\n",
      "Ia2 = 0.004315 kg*m^2\n"
     ]
    }
   ],
   "source": [
    "Ia1 = float(df.query(\"Eksperyment == 'Tarcza A m1'\")[\"Ired\"]) - float(df.query(\"Eksperyment == 'Bez Tarczy m1'\")[\"Ired\"])\n",
    "Ia2 = float(df.query(\"Eksperyment == 'Tarcza A m2'\")[\"Ired\"]) - float(df.query(\"Eksperyment == 'Bez Tarczy m2'\")[\"Ired\"])\n",
    "\n",
    "print(f\"Ia1 = {round(Ia1, 6)} kg*m^2\")\n",
    "print(f\"Ia2 = {round(Ia2, 6)} kg*m^2\")"
   ]
  },
  {
   "cell_type": "markdown",
   "metadata": {},
   "source": [
    "#### Teoretyczny moment bezwladosci tarczy A"
   ]
  },
  {
   "cell_type": "code",
   "execution_count": 16,
   "metadata": {},
   "outputs": [
    {
     "name": "stdout",
     "output_type": "stream",
     "text": [
      "I = 0.052997 kg*m^2\n"
     ]
    }
   ],
   "source": [
    "# Zakladajac, ze tarcza A to wydrazony walec I = 0.5*pi*d(r2^4-r1^4)*h, gdzie r2>r1\n",
    "# Wynik wychodzi bardzo duzy\n",
    "# Ten krazek ma w sobie dziury wiec tez trzeba by wziac to pod uwage\n",
    "from math import pi\n",
    "I = 0.5*pi*7028*(0.15**4-0.031**4)*0.0095\n",
    "print(f\"I = {round(I, 6)} kg*m^2\")"
   ]
  },
  {
   "cell_type": "markdown",
   "metadata": {},
   "source": [
    "##### Export"
   ]
  },
  {
   "cell_type": "code",
   "execution_count": 17,
   "metadata": {},
   "outputs": [],
   "source": [
    "df.to_csv(\"wyniki.csv\", index=False)"
   ]
  }
 ],
 "metadata": {
  "interpreter": {
   "hash": "36cf16204b8548560b1c020c4e8fb5b57f0e4c58016f52f2d4be01e192833930"
  },
  "kernelspec": {
   "display_name": "Python 3.9.5 64-bit",
   "language": "python",
   "name": "python3"
  },
  "language_info": {
   "codemirror_mode": {
    "name": "ipython",
    "version": 3
   },
   "file_extension": ".py",
   "mimetype": "text/x-python",
   "name": "python",
   "nbconvert_exporter": "python",
   "pygments_lexer": "ipython3",
   "version": "3.8.10"
  },
  "orig_nbformat": 4
 },
 "nbformat": 4,
 "nbformat_minor": 2
}
